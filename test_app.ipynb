{
 "cells": [
  {
   "cell_type": "code",
   "execution_count": 24,
   "metadata": {
    "collapsed": true
   },
   "outputs": [],
   "source": [
    "import pandas as pd\n",
    "import json"
   ]
  },
  {
   "cell_type": "code",
   "execution_count": 3,
   "metadata": {},
   "outputs": [],
   "source": [
    "metadata_df = pd.read_csv(\"Belly_Button_Biodiversity_Metadata.csv\")\n",
    "BB_list = metadata_df['SAMPLEID'].tolist()\n",
    "BB_list2=[]\n",
    "for i in BB_list:\n",
    "    i = \"BB_\"+str(i)\n",
    "    BB_list2.append(i)"
   ]
  },
  {
   "cell_type": "code",
   "execution_count": 18,
   "metadata": {},
   "outputs": [],
   "source": []
  },
  {
   "cell_type": "code",
   "execution_count": 22,
   "metadata": {},
   "outputs": [],
   "source": [
    "otudata_df = pd.read_csv('belly_button_biodiversity_otu_id.csv')\n",
    "OTU_list = otudata_df['lowest_taxonomic_unit_found'].tolist()"
   ]
  },
  {
   "cell_type": "code",
   "execution_count": null,
   "metadata": {},
   "outputs": [],
   "source": []
  },
  {
   "cell_type": "code",
   "execution_count": 38,
   "metadata": {
    "collapsed": true
   },
   "outputs": [],
   "source": [
    "metadict={}\n",
    "metadata_df = pd.read_csv(\"Belly_Button_Biodiversity_Metadata.csv\")\n",
    "some_id = 941\n",
    "test_bb = metadata_df['SAMPLEID']== some_id\n",
    "small_meta =metadata_df[test_bb]\n",
    "Age = small_meta['AGE'].values[0]\n",
    "BBType = small_meta['BBTYPE'].values[0]\n",
    "Ethnicity = small_meta['ETHNICITY'].values[0]\n",
    "Gender = small_meta['GENDER'].values[0]\n",
    "Location = small_meta['LOCATION'].values[0]\n",
    "SampleID = small_meta['SAMPLEID'].values[0]\n",
    "\n",
    "metadict[\"AGE\"]=str(Age)\n",
    "metadict['BBTYPE']=str(BBType)\n",
    "metadict['ETHNICITY']=str(Ethnicity)\n",
    "metadict['GENDER']=str(Gender)\n",
    "metadict['LOCATION']=str(Location)\n",
    "metadict['SAMPLEID']=int(SampleID)\n",
    "\n",
    "meta = json.dumps(metadict)\n",
    "metajson = json.loads(meta)"
   ]
  },
  {
   "cell_type": "code",
   "execution_count": null,
   "metadata": {},
   "outputs": [],
   "source": []
  },
  {
   "cell_type": "code",
   "execution_count": 66,
   "metadata": {
    "collapsed": true
   },
   "outputs": [],
   "source": [
    "metadata_df = pd.read_csv(\"Belly_Button_Biodiversity_Metadata.csv\")\n",
    "some_id = 941\n",
    "test_bb = metadata_df['SAMPLEID']== some_id\n",
    "small_meta =metadata_df[test_bb]\n",
    "WFREQ = int(small_meta['WFREQ'].values[0])"
   ]
  },
  {
   "cell_type": "code",
   "execution_count": null,
   "metadata": {
    "collapsed": true
   },
   "outputs": [],
   "source": []
  },
  {
   "cell_type": "code",
   "execution_count": 119,
   "metadata": {},
   "outputs": [],
   "source": [
    "sampledata_df = pd.read_csv(\"belly_button_biodiversity_samples.csv\")\n",
    "some_id = 940\n",
    "full_id = \"BB_\"+str(some_id)\n",
    "bb = sampledata_df[['otu_id',full_id]]\n",
    "remove_zero = bb[full_id]!=0\n",
    "nonzero_bb = bb[remove_zero]\n",
    "nonzero_bb = nonzero_bb.sort_values('BB_940',ascending=False)\n",
    "nonzero_bb = nonzero_bb.head(10)\n",
    "bact_dict={}\n",
    "bact_dict['otu_ids'] = nonzero_bb['otu_id'].tolist()\n",
    "bact_dict['sample_values'] = nonzero_bb[full_id].tolist()\n",
    "bact = json.dumps(bact_dict)\n",
    "bactjson = json.loads(bact)"
   ]
  },
  {
   "cell_type": "code",
   "execution_count": 117,
   "metadata": {},
   "outputs": [
    {
     "data": {
      "text/plain": [
       "{'otu_ids': [1167, 2859, 482, 2264, 41, 1189, 352, 189, 1977, 2318],\n",
       " 'sample_values': [163.0,\n",
       "  126.0,\n",
       "  113.0,\n",
       "  78.0,\n",
       "  71.0,\n",
       "  51.0,\n",
       "  50.0,\n",
       "  47.0,\n",
       "  40.0,\n",
       "  40.0]}"
      ]
     },
     "execution_count": 117,
     "metadata": {},
     "output_type": "execute_result"
    }
   ],
   "source": []
  }
 ],
 "metadata": {
  "kernelspec": {
   "display_name": "Python 3",
   "language": "python",
   "name": "python3"
  },
  "language_info": {
   "codemirror_mode": {
    "name": "ipython",
    "version": 3
   },
   "file_extension": ".py",
   "mimetype": "text/x-python",
   "name": "python",
   "nbconvert_exporter": "python",
   "pygments_lexer": "ipython3",
   "version": "3.6.2"
  }
 },
 "nbformat": 4,
 "nbformat_minor": 2
}
